{
 "cells": [
  {
   "cell_type": "markdown",
   "metadata": {},
   "source": [
    "<div style=\"width:100%;border-collapse:separate;border:solid 2px;border-radius:14px;\">\n",
    "    <div style=\"display:flex;\">\n",
    "        <div style=\"display:inline;width:5%;\"></div>\n",
    "        <div style=\"display:inline;width:15%;\">NSIT</div>\n",
    "        <div style=\"display:inline;width:15%;\">16a</div>\n",
    "        <div style=\"display:inline;width:70%;text-align:right;\"><b>Langages et programmation</b></div>\n",
    "        <div style=\"display:inline;width:5%;\"></div>\n",
    "    </div>\n",
    "    <div  style=\"display: flex;background-color:#EEE\">\n",
    "        <p style=\"width:100%;text-align:center;\">Paradigmes de programmation</p>\n",
    "    </div>\n",
    "    <div  style=\"display: flex;\">\n",
    "        <p style=\"width:100%;text-align:center;\">Découverte de la programmation fonctionnelle</p>\n",
    "    </div>\n",
    "</div>"
   ]
  },
  {
   "cell_type": "markdown",
   "metadata": {},
   "source": [
    "<div class = \"alert alert-success\">\n",
    "    \n",
    "**Objectifs de la séquence:** \n",
    "    \n",
    "- Faire le point sur les différents paradigmes de programmation\n",
    "- Spécificités du paradigme fonctionnel\n",
    "- Première approche du langage Haskell\n",
    "- Reconnaître une approche fonctionnelle en Python\n",
    "</div>\n",
    "\n",
    "![HomerSapiens](https://github.com/ebuonocore/NSIT_16_Paradigmes/blob/main/a_Programmation_fonctionnelle/NSIT_16a_lambda_homersapiens.png?raw=true)\n",
    "<span style=\"font-family:Comic Sans MS; color:gray; font-size: x-small;float:right \">Source: Matt Groening sur <a href=\"https://medium.com/@cscalfani/so-you-want-to-be-a-functional-programmer-part-5-c70adc9cf56a\">medium.com</a></span> "
   ]
  },
  {
   "cell_type": "markdown",
   "metadata": {},
   "source": [
    "<div class = \"alert alert-info\">\n",
    "    \n",
    "**Sommaire :**\n",
    "- <a href=#paradigmes>Différents paradigmes</a> \n",
    "- <a href=#fonctionnel>Paradigme fonctionnel</a> \n",
    "- <a href=#intro_Haskell>Introduction au langage Haskell</a> "
   ]
  },
  {
   "cell_type": "markdown",
   "metadata": {},
   "source": [
    "<div id=\"paradigmes\"></div>\n",
    "\n",
    "# Différents paradigmes de programmation"
   ]
  },
  {
   "cell_type": "markdown",
   "metadata": {},
   "source": [
    "En programmation, un **paradigme** détermine une représentation des problèmes et la façon d'appréhender leurs résolutions.  \n",
    "Chaque paradigme se caractérise par les techniques qu'il permet et celles qu'il interdit.  \n",
    "Les contours de ses différentes approches sont parfois flous et se chevauchent.\n",
    "\n",
    "En voici une liste non exhaustive:  \n",
    "- **Programmation impérative :** principalement constituée de séquences d'instructions permettant de modifier l'**état** de la mémoire (affectation) et  le flux d'exécution : tests, boucles.  \n"
   ]
  },
  {
   "cell_type": "code",
   "execution_count": null,
   "metadata": {},
   "outputs": [],
   "source": [
    "# Recherche des éléments positifs d'une liste\n",
    "une_liste = [0, -1, 5, 2, -2]\n",
    "liste_positifs =[]\n",
    "for élément in une_liste: # une boucle\n",
    "    if élément >=  0: # Un test\n",
    "        liste_positifs.append(élément) # Des changement d'états de la liste liste_positifs\n",
    "liste_positifs"
   ]
  },
  {
   "cell_type": "markdown",
   "metadata": {},
   "source": [
    "Une variante en **programmation procédurale**: la création d'une 'routine' permet la factorisation de code."
   ]
  },
  {
   "cell_type": "code",
   "execution_count": null,
   "metadata": {},
   "outputs": [],
   "source": [
    "def recherche_positifs(ma_liste:list) -> list:\n",
    "    \"\"\" Renvoie la liste des éléments positifs d'une liste \"\"\"\n",
    "    ma_liste_positifs =[]\n",
    "    for élément in ma_liste:\n",
    "        if élément >0:\n",
    "            ma_liste_positifs.append(élément)\n",
    "    return ma_liste_positifs\n",
    "\n",
    "l1 = recherche_positifs([0, -1, 5, 2, -2])\n",
    "l2 = recherche_positifs([10, 1, -5, -2, 3])\n",
    "(l1, l2)"
   ]
  },
  {
   "cell_type": "markdown",
   "metadata": {},
   "source": [
    "- **Programmation événementielle :** gère les interactions entre le système et son environnement...a priori l’utilisateur. Exemple: l'interface graphique d’un jeu vidéo ou d'une page web avec JavaScript.  \n",
    "- **Programmation parallèle :** permet de tirer partie de l’exécution simultanée de plusieurs processus. Soit dans le cas d’un vrai parallélisme avec plusieurs coeurs par exemple soit en le simulant par ordonnancement.  \n",
    "- **Programmation orientée objet :**  le programme peut être vu comme une collection d’objets en interaction. Les objets sont construits (instanciés) sur le modèle d'une classe: Ils disposent alors d'attributs et de méthodes de cette classe.  "
   ]
  },
  {
   "cell_type": "code",
   "execution_count": null,
   "metadata": {},
   "outputs": [],
   "source": [
    "class Superliste:\n",
    "    def __init__(self, contenu = []):\n",
    "        self.contenu = contenu\n",
    "    def cherche_positifs(self):\n",
    "        contenu_positif = []\n",
    "        for élément in self.contenu:\n",
    "            if élément >0:\n",
    "                contenu_positif.append(élément)\n",
    "        return contenu_positif\n",
    "\n",
    "une_liste = Superliste([0, -1, 5, 2, -2])\n",
    "une_liste.cherche_positifs() # Appel de la méthode cherche_positifs de la classe Superliste dont ma_liste est une instance."
   ]
  },
  {
   "cell_type": "markdown",
   "metadata": {},
   "source": [
    "- Les langages **déclaratifs** permettent d'écrire la spécification du problème et laissent l'implémentation du langage trouver une façon efficace de réaliser les calculs nécessaires à sa résolution. Une requête **SQL** décrit le jeu de données que vous souhaitez récupérer et il appartient au moteur SQL de gérer le traitement de cette requête de façon optimale\n",
    "\n",
    "Certains langages supportent prioritairement un paradigme particulier: C'est la cas d'**Haskell** avec le paradigme fonctionnel que nous allons aborder plus bas.  \n",
    "![Fiche_Haskell](https://github.com/ebuonocore/NSIT_16_Paradigmes/blob/main/a_Programmation_fonctionnelle/NSIT_16a_fiche_signaletique_Haskell.png?raw=true)<span style=\"font-family:Comic Sans MS; color:gray; font-size: x-small;float:right \">Source: Wikipédia. Fiche signalétique <a href=\"https://fr.wikipedia.org/wiki/Haskell\">Haskell</a></span> "
   ]
  },
  {
   "cell_type": "markdown",
   "metadata": {},
   "source": [
    "D'autres langages, comme Python, permettent de croiser les avantages de différents paradigmes. Mais ils perdent au passage la rigueur et certains bénéfices d'une implémentation plus pure.  \n",
    "\n",
    "Nous allons voir ici quelles sont les spécificités du paradigme fonctionnel, comment on peut s'en approcher en Python et quels sont les avantages que l'on peut en attendre."
   ]
  },
  {
   "cell_type": "markdown",
   "metadata": {},
   "source": [
    "<div id=\"fonctionnel\"></div>\n",
    "\n",
    "# Paradigme fonctionnel"
   ]
  },
  {
   "cell_type": "markdown",
   "metadata": {},
   "source": [
    "Les langages fonctionnelles sont des langages qui reposent sur le **lamda-calcul** (λ-calcul), créé par Church en 1925. \n",
    "![AlonzoChurch](https://github.com/ebuonocore/NSIT_16_Paradigmes/blob/main/a_Programmation_fonctionnelle/NSIT_16a_Alonzo_Church.jpg?raw=true)<span style=\"font-family:Comic Sans MS; color:gray; font-size: x-small;float:right \">Source:<a href=\"http://www.espace-turing.fr/Naissance-de-Alonzo-Church.html\">espace-turing.fr</a></span> "
   ]
  },
  {
   "cell_type": "markdown",
   "metadata": {},
   "source": [
    "Parmi les premiers langages basés sur ce paradigme on compte LSIP en 1958 et CAML développé par l'INRIA en 1985.  \n",
    "\n",
    "Ce paradigme va beaucoup plus loin que  l'approche **procédurale** concernant la notion de fonction:  \n",
    "<div class = \"alert alert-success\">\n",
    "    Les <b>fonctions sont des données</b> comme les autres: On peut les passer en paramètre d'autres fonctions. On peut affecter une fonction à une variable. Il est possible de retourner une fonction comme résultat d’une autre fonction.\n",
    "</div>\n",
    "\n",
    "Dans d'autres approches, non-fonctionnelles, des projets ambitieux peuvent rapidement devenir difficile à suivre, surtout lorsque des variables du système peuvent être manipulées à plusieurs niveaux du programme...\n",
    "![Programmation_spaghetti](https://github.com/ebuonocore/NSIT_16_Paradigmes/blob/main/a_Programmation_fonctionnelle/NSIT_16a_sapghetti.png?raw=true)\n",
    "\n",
    "Longtemps boudé par l'industrie et laissé aux mains des universitaires, la programmation fonctionnelle revient aujourd'hui en force car elle fait ses preuves pour repousser cet écueil et produire des codes lisibles, maintenables, évolutifs, testables et surtout **robustes** !   \n",
    "\n",
    "![visualFP](https://github.com/ebuonocore/NSIT_16_Paradigmes/blob/main/a_Programmation_fonctionnelle/NSIT_16a_diagramme_visualFP.png?raw=true)<span style=\"font-family:Comic Sans MS; color:gray; font-size: x-small;float:right \">Source:<a href=\"https://alexdarlington.com/\">A visual IDE for pure functional programming</a></span> "
   ]
  },
  {
   "cell_type": "markdown",
   "metadata": {},
   "source": [
    "Pour arriver à cela, il faut suivre quelques règles strictes, assez déroutantes au début:  \n",
    "- Les **variables sont immuables**: Cela veut dire qu'elles ne changent pas. Les variables peuvent être affectées, mais ... elles ne varient pas! Il n'y a donc pas de notion d'état.\n",
    "- Une fonction qui reçoit les mêmes arguments renvoie toujours les **mêmes résultats** \n",
    "- Les **effets de bord** sont prohibés: une fonction retourne une valeur, à part ça, elle n'agit que sur son environnement local."
   ]
  },
  {
   "cell_type": "markdown",
   "metadata": {},
   "source": [
    "Illustrons cela avec quelques exemples en Python QUI NE RESPECTENT PAS ces règles.  \n",
    "Exécutez-les et essayez de deviner quels règles elles enfreignent."
   ]
  },
  {
   "cell_type": "code",
   "execution_count": null,
   "metadata": {},
   "outputs": [],
   "source": [
    "def suivant() -> int:\n",
    "    \"\"\" Incrémente de 1 la variable a \"\"\"\n",
    "    global a\n",
    "    a = a + 1\n",
    "    return a\n",
    "    \n",
    "a = 0\n",
    "print(suivant())\n",
    "print(suivant())\n",
    "print(suivant())"
   ]
  },
  {
   "cell_type": "code",
   "execution_count": null,
   "metadata": {},
   "outputs": [],
   "source": [
    "def moyenne(ma_liste:list) -> float:\n",
    "    \"\"\" Renvoie la moyenne des éléments de la liste \"\"\"    \n",
    "    somme = 0\n",
    "    for élément in ma_liste:\n",
    "        somme += élément\n",
    "    return somme / len(ma_liste)\n",
    "\n",
    "a = 0\n",
    "m = moyenne([10,12,16,8,20])"
   ]
  },
  {
   "cell_type": "code",
   "execution_count": null,
   "metadata": {},
   "outputs": [],
   "source": [
    "def argent(ma_liste:list) -> float:\n",
    "    \"\"\" Renvoie le second élément le plus grand de la liste \"\"\"\n",
    "    assert len(ma_liste)>1, \"Il faut au moins deux éléments dans la liste.\"\n",
    "    plus_grand = max(ma_liste)\n",
    "    ma_liste.remove(plus_grand)\n",
    "    # Une fois la liste décapitée, le plus grand suivant est celui que l'on recherche\n",
    "    return max(ma_liste)\n",
    "\n",
    "une_liste = [5,7,10,-2,9]\n",
    "print(argent(une_liste),\"est le second élément plus grand de\", une_liste) \n",
    "# Ou presque... entre temps une_liste a perdu la tête"
   ]
  },
  {
   "cell_type": "markdown",
   "metadata": {},
   "source": [
    "<details style=\"details[open] summary::-webkit-details-marker { color:#eaeaea; background:#f7f7f7; outline: 1px\n",
    "solid #ADCA48;}\">\n",
    "<summary style=\"summary::-webkit-details-marker { color:#ADCA48; background:#e2ecda;} \">\n",
    "    &#x1F431; Votre langue au chat?</summary>\n",
    "La fonction 'suivant()' agit sur une variable globale en dehors de son environnement propre.<br>\n",
    "La variable a est affectée à la valeur 0, puis change au cours du programme.<br>\n",
    "<br>\n",
    "La fonction 'moyenne()' est dite pure. Elle n'agit pas sur les variables extérieures comme 'a' par exemple.<br>\n",
    "'m' n'est modifiée que par le retour de la fonction.<br>\n",
    "Par contre, la variable 'somme' est modifiée. Et même 'élément' prend différentes valeurs...<br>\n",
    "<br>\n",
    "Dans la fonction 'argent()' la liste est modifiée, mais pire encore, la portée de cette modification déborde sur le corps du programme: ma_liste a été décapitée, après l'appel de la fonction 'argent()' nous avons perdu le '10'<br>\n",
    "si on appelle 'argent(une_liste)' plusieurs fois de suite, notre liste va fondre.\n",
    "</details>"
   ]
  },
  {
   "cell_type": "code",
   "execution_count": null,
   "metadata": {},
   "outputs": [],
   "source": [
    "une_longue_liste = [9, 2, 1, 14, 17, 9, 18, 3, 16, 6, 14, 5, 20, 15, 16, 6, 12, 14, 20, 9, 8, 16]\n",
    "for i in range(20):\n",
    "    argent(une_longue_liste)\n",
    "une_longue_liste # Plus si longue que ça"
   ]
  },
  {
   "cell_type": "markdown",
   "metadata": {},
   "source": [
    "<div class = \"alert alert-danger\">\n",
    "    Mais alors, comment faire de la programmation <b>sans changer les valeurs de nos variables</b> et sans effets de bords?\n",
    "    </div>\n",
    " Nous allons l'aborder à travers l'introduction au langage Haskell."
   ]
  },
  {
   "cell_type": "markdown",
   "metadata": {},
   "source": [
    "<div id=\"intro_Haskell\"></div>\n",
    "\n",
    "# Introduction au langage Haskell"
   ]
  },
  {
   "cell_type": "markdown",
   "metadata": {},
   "source": [
    "Il est possible d'<a href=\"https://www.haskell.org/platform/\">installer Haskell</a> sur son ordinateur mais pour commencer nous nous contenterons d'un interpréteur en ligne.  \n",
    "Lancez <a href=\"https://replit.com/languages/haskell\">replit</a>  \n",
    "Dans la fenêtre de droite, vous pouvez maintenant lancer l'interpréteur **ghci**  \n",
    "Vous pouvez désormais saisir du code après l'invite <span style=\"font-family:'Segoe UI'; color:white;background-color: black;padding:.2em\">Prelude > </span> que je ne représenterai par la suite que par ce symbôle <span style=\"font-family:'Segoe UI'; color:white;background-color: black;padding:.2em\">></span>\n",
    "\n",
    "Remarque: Pensez à utiliser la flèche du haut  &#x2191; pour recopier une saisie précédente."
   ]
  },
  {
   "cell_type": "markdown",
   "metadata": {},
   "source": [
    "![Haskell_ghci](https://github.com/ebuonocore/NSIT_16_Paradigmes/blob/main/a_Programmation_fonctionnelle/NSIT_16a_replit_Haskell_ghci.png?raw=true)"
   ]
  },
  {
   "cell_type": "markdown",
   "metadata": {},
   "source": [
    "### Petit tour d'horizon de la syntaxe et des instructions de base\n",
    "Exécutez les lignes ci-dessous dans replit pour vous familiariser avec le langage:  \n",
    "On commence par affecter deux variables:  \n",
    "<span style=\"font-family:'Segoe UI'; color:white;background-color: black;padding:.2em\">> debut = \"Bon\"</span>  \n",
    "<span style=\"font-family:'Segoe UI'; color:white;background-color: black;padding:.2em\">> fin = \"jour\"</span>  \n",
    "L'opérateur <code>++</code> réalise la concaténation de chaînes de caractères mais aussi de listes.   \n",
    "<span style=\"font-family:'Segoe UI'; color:white;background-color: black;padding:.2em\">> texte = debut ++ fin</span>  \n",
    "<span style=\"font-family:'Segoe UI'; color:white;background-color: black;padding:.2em\">> [1,2,3] ++ [4,5,6]</span>  \n",
    "<span style=\"font-family:'Segoe UI'; color:white;background-color: black;padding:.2em\">> reverse texte</span>  \n",
    "<code>:type</code> permet de connaître le type du paramètre:  \n",
    "<span style=\"font-family:'Segoe UI'; color:white;background-color: black;padding:.2em\">> :type texte</span>  \n",
    "Ici, texte est une liste de caractères (Notez les crochets)  \n",
    "<span style=\"font-family:'Segoe UI'; color:white;background-color: black;padding:.2em\">> :type reverse</span>  \n",
    "$reverse$ produit une liste d'éléments du même type (a) que ceux de la liste qui lui a été passée en paramètre et en inverse le sens.  \n",
    "Pour expérimenter les priorités des opérateurs, observez la différence entre ces deux lignes:  \n",
    "<span style=\"font-family:'Segoe UI'; color:white;background-color: black;padding:.2em\">> reverse [1,2,3] ++ [4,5,6]</span>  \n",
    "<span style=\"font-family:'Segoe UI'; color:white;background-color: black;padding:.2em\">> reverse ([1,2,3] ++ [4,5,6])</span>  \n",
    "Une autre méthode pour ajouter un élément en tête de liste consiste à utiliser <code>:</code>  \n",
    "<span style=\"font-family:'Segoe UI'; color:white;background-color: black;padding:.2em\">> 3 : [4,5,6]</span>  \n",
    "Du coup, cette écriture est récursive:  \n",
    "<span style=\"font-family:'Segoe UI'; color:white;background-color: black;padding:.2em\">> 1 : 2 : 3 : [4,5,6]</span>  \n",
    "<code>!!</code> permet d'obtenir les nième élément d'une liste:  \n",
    "<span style=\"font-family:'Segoe UI'; color:white;background-color: black;padding:.2em\">> [4,5,6] !!1 </span>  \n",
    "Pour finir avec les opérations sur les listes, <code>head</code> et <code>tail</code> permettent d'obtenir la tête d'une liste et la liste privée de sa tête:   \n",
    "<span style=\"font-family:'Segoe UI'; color:white;background-color: black;padding:.2em\">> head [2,3,4,5,6]</span>  \n",
    "<span style=\"font-family:'Segoe UI'; color:white;background-color: black;padding:.2em\">> tail [2,3,4,5,6]</span>  \n",
    "\n",
    "Si $une\\_liste$ est une liste non-vide (par exemple: <code>une_liste = [1,2,3,4,5,6])</code>, comment pourriez-vous obtenir son dernier élément?"
   ]
  },
  {
   "cell_type": "markdown",
   "metadata": {},
   "source": [
    "<details style=\"details[open] summary::-webkit-details-marker { color:#eaeaea; background:#f7f7f7; outline: 1px\n",
    "solid #ADCA48;}\">\n",
    "<summary style=\"summary::-webkit-details-marker { color:#ADCA48; background:#e2ecda;} \">\n",
    "    &#x2705; Correction</summary>\n",
    "    avec <code>une_liste = [1,2,3,4,5,6]</code>\n",
    "<code>\n",
    "head (reverse une_liste)\n",
    "</code>\n",
    "ou\n",
    "<code>\n",
    "reverse une_liste !! 0\n",
    "</code>\n",
    "</details>"
   ]
  },
  {
   "cell_type": "markdown",
   "metadata": {},
   "source": [
    "### Nous allons pouvoir jouer avec les fonctions\n",
    "Commençons par définir trois fonctions:  \n",
    "La fonction $double$ associe à la valeur x -> x+x  \n",
    "<span style=\"font-family:'Segoe UI'; color:white;background-color: black;padding:.2em\">> double x = x + x</span>  \n",
    "La fonction $suivant$ associe à la valeur x -> x+1  \n",
    "<span style=\"font-family:'Segoe UI'; color:white;background-color: black;padding:.2em\">> suivant x = x + 1</span>  \n",
    "La fonction $addition$ associe aux valeurs x et y -> x+y  \n",
    "<span style=\"font-family:'Segoe UI'; color:white;background-color: black;padding:.2em\">> addition x y = x + y</span>  \n",
    "On peut les appeler de la façon suivante:  \n",
    "<span style=\"font-family:'Segoe UI'; color:white;background-color: black;padding:.2em\">> addition 2 3</span>  \n",
    "<span style=\"font-family:'Segoe UI'; color:white;background-color: black;padding:.2em\">> double 4</span>  \n",
    "<span style=\"font-family:'Segoe UI'; color:white;background-color: black;padding:.2em\">> addition 2 (double 4)</span>  \n",
    "<span style=\"font-family:'Segoe UI'; color:white;background-color: black;padding:.2em\">> addition (suivant 3) (double 4)</span>  \n",
    "Là où ça devient intéressant, c'est que l'on peut définir une **fonction partielle** de la fonction $addition$:  \n",
    "<span style=\"font-family:'Segoe UI'; color:white;background-color: black;padding:.2em\">> add2 = addition 2</span>  \n",
    "Notez que le type de $addition 2$ est une fonction: Elle attend encore un paramètre pour être évaluée.    \n",
    "Nous venons de construire une **fonction qui renvoie une fonction**\\.  \n",
    "La variable $add2$ désigne cette fonction.  \n",
    "<span style=\"font-family:'Segoe UI'; color:white;background-color: black;padding:.2em\">> add2 4</span>  \n"
   ]
  },
  {
   "cell_type": "markdown",
   "metadata": {},
   "source": [
    "Il est aussi possible de **composer** des fonctions.  \n",
    "<span style=\"font-family:'Segoe UI'; color:white;background-color: black;padding:.2em\">> affine x = addition (suivant x) (double x)</span>  \n",
    "<span style=\"font-family:'Segoe UI'; color:white;background-color: black;padding:.2em\">> affine 0</span>  \n",
    "<span style=\"font-family:'Segoe UI'; color:white;background-color: black;padding:.2em\">> affine 2</span>  \n",
    "La définition d'une fonction peut passer par la triade <code>if ... then ... else...</code>  \n",
    "<span style=\"font-family:'Segoe UI'; color:white;background-color: black;padding:.2em\">> f x = if (mod x 3 == 0) then (div x 3) else 4 * x - 1</span>  \n",
    "Testez $f(x)$ pour différentes valeurs de $x$:  \n",
    "<span style=\"font-family:'Segoe UI'; color:white;background-color: black;padding:.2em\">> f 0</span>  \n",
    "<span style=\"font-family:'Segoe UI'; color:white;background-color: black;padding:.2em\">> f 1</span>  \n",
    "<span style=\"font-family:'Segoe UI'; color:white;background-color: black;padding:.2em\">> f 2</span>  \n",
    "<span style=\"font-family:'Segoe UI'; color:white;background-color: black;padding:.2em\">> f 3</span>  \n",
    "Ce qui pourrait être équivalent en Python à:"
   ]
  },
  {
   "cell_type": "code",
   "execution_count": null,
   "metadata": {},
   "outputs": [],
   "source": [
    "def f(x:int) -> int:\n",
    "    if x%3 == 0:\n",
    "        return x//3\n",
    "    return 4*x -1\n",
    "\n",
    "f(0), f(1), f(2), f(3), f(4)"
   ]
  },
  {
   "cell_type": "markdown",
   "metadata": {},
   "source": [
    "On remarque déjà que la définition de cette fonction est 4 fois moins longue en Haskell.  \n",
    "Nous  n'avons pas le droit d'utiliser l'incrémentation d'une variable pour parcourir une liste. La somme des éléments d'une liste par exemple se définit de façon récursive:  \n",
    "<span style=\"font-family:'Segoe UI'; color:white;background-color: black;padding:.2em\">> somme liste = if (length liste == 0) then 0 else head liste + somme (tail liste)</span>  \n",
    "On peut tester notre nouvelle fonction ainsi:  \n",
    "<span style=\"font-family:'Segoe UI'; color:white;background-color: black;padding:.2em\">> somme [10,-1,3,8,5,4]</span>   \n",
    "Haskell propose une écriture efficace des listes en compréhension. La liste des 20 premiers entiers s'écrit:  \n",
    "<span style=\"font-family:'Segoe UI'; color:white;background-color: black;padding:.2em\">> [1..20]</span>  \n",
    "Appliqué à notre fonction, cela donne:  \n",
    "<span style=\"font-family:'Segoe UI'; color:white;background-color: black;padding:.2em\">> somme [1..20]</span>  \n",
    "On notera au passage, qu'Haskell supporte la notion d'infini.  \n",
    "En effet, si je note:  \n",
    "<span style=\"font-family:'Segoe UI'; color:white;background-color: black;padding:.2em\">> n = [1..]</span>  \n",
    "n contient TOUS les nombres entiers positifs. Enfin, ceux qu'un ordinateur est capable d'évaluer. Si je demande:  \n",
    "<span style=\"font-family:'Segoe UI'; color:white;background-color: black;padding:.2em\">> n!!100</span>  \n",
    "Il ne calcule que ce dont il a besoin. On parle alors d'**évaluation paresseuse**  \n",
    "Si vous vous amusez à lancer la commande qui suit, vous risquez de faire transpirer le serveur:  \n",
    "<span style=\"font-family:'Segoe UI'; color:white;background-color: black;padding:.2em\">> somme [1..]</span>  \n",
    "Voici comment on écrirait assez spontanément une fonction équivalente en Pyhton:"
   ]
  },
  {
   "cell_type": "code",
   "execution_count": null,
   "metadata": {},
   "outputs": [],
   "source": [
    "def somme(ma_liste:list) -> int:\n",
    "    s = 0\n",
    "    for i in ma_liste: # Ici, i va changer le valeur, ce qui impossible avec Haskell\n",
    "        s += i\n",
    "    return s\n",
    "\n",
    "somme([10,-1,3,8,5,4]), somme([i for i in range(21)])"
   ]
  },
  {
   "cell_type": "markdown",
   "metadata": {},
   "source": [
    "Proposez, en Python, une fonction $somme\\_rec()$ qui calcule récursivement la somme des éléments d'une liste, à la façon d'Haskell."
   ]
  },
  {
   "cell_type": "code",
   "execution_count": null,
   "metadata": {},
   "outputs": [],
   "source": [
    "def somme_rec(ma_liste:list) -> int:\n",
    "    if ...: # Testez le cas de base ici\n",
    "        return ...\n",
    "    else :\n",
    "        queue = [ma_liste[i] for i in range(1,len(ma_liste))] # Plus direct avec un slice mais c'est hors programme\n",
    "        return ... + ...\n",
    "    \n",
    "somme_rec([10,-1,3,8,5,4]), somme_rec([i for i in range(21)])"
   ]
  },
  {
   "cell_type": "markdown",
   "metadata": {},
   "source": [
    "<details style=\"details[open] summary::-webkit-details-marker { color:#eaeaea; background:#f7f7f7; outline: 1px\n",
    "solid #ADCA48;}\">\n",
    "<summary style=\"summary::-webkit-details-marker { color:#ADCA48; background:#e2ecda;} \">\n",
    "    &#x2705; Correction</summary>\n",
    "<code>\n",
    "def somme_rec(ma_liste:list) -> int:\n",
    "    if len(ma_liste) == 0:\n",
    "        return 0\n",
    "    else :\n",
    "        queue = [ma_liste[i] for i in range(1,len(ma_liste))] \n",
    "        return ma_liste[0] + somme_rec(queue)\n",
    "</code>\n",
    "    \n",
    "Pour info, le même programme en utilisant un slice à la place de la liste en compréhension:\n",
    "<code>\n",
    "def somme_rec(ma_liste:list) -> int:\n",
    "    if len(ma_liste) == 0:\n",
    "        return 0\n",
    "    else :\n",
    "        return ma_liste[0] + ma_liste[1:]\n",
    "</code> \n",
    "</details>"
   ]
  },
  {
   "cell_type": "markdown",
   "metadata": {},
   "source": [
    "Pour avoir une syntaxe plus proche de Python, nous allons créer les fonctions $chr$ qui renvoie le point de code d'un caractère et $ord$ sa réciproque.  \n",
    "<span style=\"font-family:'Segoe UI'; color:white;background-color: black;padding:.2em\">> ord x = fromEnum x</span>  \n",
    "<span style=\"font-family:'Segoe UI'; color:white;background-color: black;padding:.2em\">> ord 'e'</span>  \n",
    "<span style=\"font-family:'Segoe UI'; color:white;background-color: black;padding:.2em\">> chr a = toEnum a::Char</span>  \n",
    "<span style=\"font-family:'Segoe UI'; color:white;background-color: black;padding:.2em\">> chr 102</span>  \n"
   ]
  },
  {
   "cell_type": "markdown",
   "metadata": {},
   "source": [
    "Crééz la fonction Haskell $cesar3$ qui prend un caractère en paramètre et renvoie le caractère décalé de 3 points dans l'alphabet."
   ]
  },
  {
   "cell_type": "markdown",
   "metadata": {},
   "source": [
    "<details style=\"details[open] summary::-webkit-details-marker { color:#eaeaea; background:#f7f7f7; outline: 1px\n",
    "solid #ADCA48;}\">\n",
    "<summary style=\"summary::-webkit-details-marker { color:#ADCA48; background:#e2ecda;} \">\n",
    "    &#x2705; Correction</summary>\n",
    "    <br>\n",
    "<span style=\"font-family:'Segoe UI'; color:white;background-color: black;padding:.2em\">> cesar3 x = chr ((ord x) + 3)</span> \n",
    "</details>"
   ]
  },
  {
   "cell_type": "markdown",
   "metadata": {},
   "source": [
    "Testez:  \n",
    "<span style=\"font-family:'Segoe UI'; color:white;background-color: black;padding:.2em\">> cesar3 'e'</span>  \n",
    "<span style=\"font-family:'Segoe UI'; color:white;background-color: black;padding:.2em\">> cesar3 '1'</span>  \n",
    "\n",
    "Dans la foulée, créez la fonction Haskell $cesar$ qui prend un entier y et un caractère x en paramètres et renvoie le caractère x décalé de y points dans l'alphabet.  "
   ]
  },
  {
   "cell_type": "markdown",
   "metadata": {},
   "source": [
    "<details style=\"details[open] summary::-webkit-details-marker { color:#eaeaea; background:#f7f7f7; outline: 1px\n",
    "solid #ADCA48;}\">\n",
    "<summary style=\"summary::-webkit-details-marker { color:#ADCA48; background:#e2ecda;} \">\n",
    "    &#x2705; Correction</summary>\n",
    "    <br>\n",
    "<span style=\"font-family:'Segoe UI'; color:white;background-color: black;padding:.2em\">> cesar y x = chr ((ord x) + y)</span> \n",
    "</details>"
   ]
  },
  {
   "cell_type": "markdown",
   "metadata": {},
   "source": [
    "Testez:  \n",
    "<span style=\"font-family:'Segoe UI'; color:white;background-color: black;padding:.2em\">> cesar 4 'e'</span>  \n",
    "<span style=\"font-family:'Segoe UI'; color:white;background-color: black;padding:.2em\">> cesar (-4) 'i'</span>  \n",
    "\n",
    "Du coup, à quoi pourrait ressemblé une fonctionc $cesareS$ en Haskell qui prend un entier $y$ en paramètre (la clef de décalage) et une chaîne de caractère et qui renvoie le chiffrement César de cette chaîne?"
   ]
  },
  {
   "cell_type": "markdown",
   "metadata": {},
   "source": [
    "<details style=\"details[open] summary::-webkit-details-marker { color:#eaeaea; background:#f7f7f7; outline: 1px\n",
    "solid #ADCA48;}\">\n",
    "<summary style=\"summary::-webkit-details-marker { color:#ADCA48; background:#e2ecda;} \">\n",
    "    &#x2705; Correction</summary>\n",
    "    <br>\n",
    "<span style=\"font-family:'Segoe UI'; color:white;background-color: black;padding:.2em\">> cesareS y chaine = if (length chaine == 0) then [] else [cesar y (head chaine)] ++ cesareS y (tail chaine)</span><br>\n",
    "<span style=\"font-family:'Segoe UI'; color:white;background-color: black;padding:.2em\">> cesareS 4 \"C'est bon\"</span><br>\n",
    "<span style=\"font-family:'Segoe UI'; color:white;background-color: black;padding:.2em\">\"G+iwx\\$fsr\"</span><br>\n",
    "<span style=\"font-family:'Segoe UI'; color:white;background-color: black;padding:.2em\">> cesareS (-4) \"G+iwx\\$fsr\"</span><br>\n",
    "<span style=\"font-family:'Segoe UI'; color:white;background-color: black;padding:.2em\">\"C'est bon\"</span><br>\n",
    "</details>"
   ]
  },
  {
   "cell_type": "markdown",
   "metadata": {},
   "source": [
    "### Des fonctions en paramètres\n",
    "\n",
    "Rentrons maintenant un peu plus dans le vif du sujet. Il est possible de passer des fonctions en argument.  \n",
    "Dans l'exemple qui suit, nous souhaitons que la fonction $myst$ renvoie $f(x)$ si $x$ est pair ou $g(x)$ si $x$ est impair. $f$ et $g$ n'étant pas encore définis.  \n",
    "<span style=\"font-family:'Segoe UI'; color:white;background-color: black;padding:.2em\">> myst f g x = if (mod x 2 == 0) then (f x) else (g x)</span>  \n",
    "Tester-la maintenant avec les combinaisons suivantes:  \n",
    "<span style=\"font-family:'Segoe UI'; color:white;background-color: black;padding:.2em\">> myst suivant double 0</span>  \n",
    "<span style=\"font-family:'Segoe UI'; color:white;background-color: black;padding:.2em\">> myst suivant double 1</span>  \n",
    "<span style=\"font-family:'Segoe UI'; color:white;background-color: black;padding:.2em\">> myst suivant double 2</span>  \n",
    "<span style=\"font-family:'Segoe UI'; color:white;background-color: black;padding:.2em\">> myst suivant double 3</span>  \n",
    "Et mainteant en inversant l'ordre des fonctions passées en arguments:  \n",
    "<span style=\"font-family:'Segoe UI'; color:white;background-color: black;padding:.2em\">> myst double suivant 0</span>  \n",
    "<span style=\"font-family:'Segoe UI'; color:white;background-color: black;padding:.2em\">> myst double suivant 1</span>  \n",
    "<span style=\"font-family:'Segoe UI'; color:white;background-color: black;padding:.2em\">> myst double suivant 2</span>  \n",
    "<span style=\"font-family:'Segoe UI'; color:white;background-color: black;padding:.2em\">> myst double suivant 3</span>  \n",
    "\n",
    "Voila à quoi pourrait ressembler un équivalent en Python:\n"
   ]
  },
  {
   "cell_type": "code",
   "execution_count": null,
   "metadata": {},
   "outputs": [],
   "source": [
    "def suivant(x:int) -> int:\n",
    "    return x + 1\n",
    "\n",
    "def double(x:int) -> int:\n",
    "    return x + x\n",
    "\n",
    "def myst(f:callable, g:callable, x:int) -> int:\n",
    "    if x % 2 == 0:\n",
    "        return f(x)\n",
    "    return g(x)\n",
    "\n",
    "for i in range(6):\n",
    "    print(myst(suivant, double, i), end=\" \")\n",
    "print()\n",
    "    \n",
    "for i in range(6):\n",
    "    print(myst(double,suivant, i), end=\" \")"
   ]
  },
  {
   "cell_type": "markdown",
   "metadata": {},
   "source": [
    "Notez que dans l'annotation de type de la fonction $myst$, $f$ et $g$ sont désignés par le type 'callable'.  \n",
    "Cela veut dire que l'on peut les appeler avec des éléments entre parenthèses.  \n",
    "Par contre, lorsque l'on appelle la foncton $myst$, les arguments $suivant$ et $double$ ne sont désignés que par leurs noms. Il n'y a pas de parenthèses après."
   ]
  },
  {
   "cell_type": "code",
   "execution_count": null,
   "metadata": {},
   "outputs": [],
   "source": [
    "suivant"
   ]
  },
  {
   "cell_type": "markdown",
   "metadata": {},
   "source": [
    "### Mapping\n",
    "\n",
    "On termine cette partie par un exercice.  \n",
    "On vous donne deux fonctions: $carré$ et $cube$.  \n",
    "Vous devez écrire une fonction $distribue$ qui prend en paramètre une fonction (a priori $carré$ ou $cube$) et une liste.  \n",
    "$distribue$ effectue la transformation de la fonction passée en argument sur chaque élément de la liste.  \n",
    "Par exemple:  \n",
    "distribue(carré, [-1, 0, 1, 2, 3]) renvoie [1, 0, 1, 4, 9]  \n",
    "distribue (cube, [-1, 0, 1, 2, 3]) renvoie [-1, 0, 1, 8, 27]"
   ]
  },
  {
   "cell_type": "code",
   "execution_count": null,
   "metadata": {},
   "outputs": [],
   "source": [
    "def carré(x:float) -> float:\n",
    "    return x * x\n",
    "\n",
    "def cube(x:float) -> float:\n",
    "    return x**3\n",
    "\n",
    "def distribue(f:callable, ma_liste:list) -> list:\n",
    "    \"\"\" Renvoie la liste constituée des éléments de ma_liste auxquels ont applique f\"\"\"\n",
    "    ...\n",
    "\n",
    "une_liste = [-1, 0, 1, 2, 3]\n",
    "print(\"Pour f = carré : \", distribue(carré, une_liste))\n",
    "print(\"Pour f = cube : \", distribue(cube, une_liste))\n",
    "print(\"Pour f = suivant : \", distribue(suivant, une_liste))\n",
    "print(\"Pour f = double : \", distribue(double, une_liste))"
   ]
  },
  {
   "cell_type": "markdown",
   "metadata": {},
   "source": [
    "<details style=\"details[open] summary::-webkit-details-marker { color:#eaeaea; background:#f7f7f7; outline: 1px\n",
    "solid #ADCA48;}\">\n",
    "<summary style=\"summary::-webkit-details-marker { color:#ADCA48; background:#e2ecda;} \">\n",
    "    &#x2705; Correction 1</summary>\n",
    "<code>\n",
    "def distribue(f:callable, ma_liste:list) -> list:\n",
    "    \"\"\" Renvoie la liste constituée des éléments de ma_liste auxquels ont applique f\"\"\"\n",
    "    liste_sortie = []\n",
    "    for élément in ma_liste:\n",
    "        liste_sortie.append(f(élément))\n",
    "    return liste_sortie\n",
    "</code>\n",
    "</details>"
   ]
  },
  {
   "cell_type": "markdown",
   "metadata": {},
   "source": [
    "<details style=\"details[open] summary::-webkit-details-marker { color:#eaeaea; background:#f7f7f7; outline: 1px\n",
    "solid #ADCA48;}\">\n",
    "<summary style=\"summary::-webkit-details-marker { color:#ADCA48; background:#e2ecda;} \">\n",
    "    &#x2705; Correction 2: Avec une liste en compréhension</summary>\n",
    "<code>\n",
    "def distribue(f:callable, ma_liste:list) -> list:\n",
    "    \"\"\" Renvoie la liste constituée des éléments de ma_liste auxquels ont applique f\"\"\"\n",
    "    return [f(élément)for élément in ma_liste ]\n",
    "</code>\n",
    "</details>"
   ]
  },
  {
   "cell_type": "markdown",
   "metadata": {},
   "source": [
    "Cette fonction $distribue$ et sa généralisation à plusieurs itérables et déjà fournie par Haskell et Python sous le nom de $map$.  \n",
    "Elle s'utilise de la façon suivante:  \n",
    "en Python"
   ]
  },
  {
   "cell_type": "code",
   "execution_count": null,
   "metadata": {},
   "outputs": [],
   "source": [
    "list(map(carré, une_liste))"
   ]
  },
  {
   "cell_type": "markdown",
   "metadata": {},
   "source": [
    "En Haskell  \n",
    "<span style=\"font-family:'Segoe UI'; color:white;background-color: black;padding:.2em\">> carre x = x*x</span>  \n",
    "<span style=\"font-family:'Segoe UI'; color:white;background-color: black;padding:.2em\">> map carre [-1, 0, 1, 2, 3]</span> "
   ]
  },
  {
   "cell_type": "markdown",
   "metadata": {},
   "source": [
    "---\n",
    "<p style=\"font-family:Comic Sans MS; text-align: center; color:gray; font-size: x-small; \">- Eric Buonocore. mai 2021 -<br></p>\n",
    "\n",
    "![Licence CC BY NC SA](https://licensebuttons.net/l/by-nc-sa/3.0/88x31.png)"
   ]
  },
  {
   "cell_type": "markdown",
   "metadata": {},
   "source": [
    "Sources:\n",
    "\n",
    "- <a href=\"https://promyze.com/blog-paradigme-fonctionnel-qualite-code/\">promyze.com</a>\n",
    "- <a href=\"https://mermet.users.greyc.fr/Enseignement/EnseignementInformatiqueLycee/Havre/Bloc4/progFonctionnelle.html\">Cours de Bruno Mermet — Université Le Havre - Normandie</a>\n",
    "\n",
    "\n",
    "Pour aller plus loin:  \n",
    "- <a href=\"https://lyah.haskell.fr/\">Apprendre Haskell vous fera le plus grand bien !</a>  \n",
    "- <a href=\"https://www.youtube.com/watch?v=0if71HOyVjY\">GOTO 2018 • Functional Programming in 40 Minutes • Russ Olsen</a> 41min34s "
   ]
  }
 ],
 "metadata": {
  "kernelspec": {
   "display_name": "Python 3",
   "language": "python",
   "name": "python3"
  },
  "language_info": {
   "codemirror_mode": {
    "name": "ipython",
    "version": 3
   },
   "file_extension": ".py",
   "mimetype": "text/x-python",
   "name": "python",
   "nbconvert_exporter": "python",
   "pygments_lexer": "ipython3",
   "version": "3.7.6"
  }
 },
 "nbformat": 4,
 "nbformat_minor": 1
}
